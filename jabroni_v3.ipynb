{
  "nbformat": 4,
  "nbformat_minor": 0,
  "metadata": {
    "colab": {
      "name": "jabroni_v3.ipynb",
      "version": "0.3.2",
      "provenance": [],
      "collapsed_sections": [
        "StPRPtW_NCTt",
        "qVNintQZNOJG"
      ]
    },
    "kernelspec": {
      "name": "python3",
      "display_name": "Python 3"
    },
    "accelerator": "GPU"
  },
  "cells": [
    {
      "metadata": {
        "id": "StPRPtW_NCTt",
        "colab_type": "text"
      },
      "cell_type": "markdown",
      "source": [
        "# Install libraries"
      ]
    },
    {
      "metadata": {
        "id": "DnkZYdj6MM3A",
        "colab_type": "code",
        "colab": {}
      },
      "cell_type": "code",
      "source": [
        "! pip install imageio\n",
        "! pip install kaggle\n",
        "! pip install ipywidgets"
      ],
      "execution_count": 0,
      "outputs": []
    },
    {
      "metadata": {
        "id": "wWfNVpqgNJ9E",
        "colab_type": "text"
      },
      "cell_type": "markdown",
      "source": [
        "# Import"
      ]
    },
    {
      "metadata": {
        "id": "n1rakkMNL5ZQ",
        "colab_type": "code",
        "colab": {
          "base_uri": "https://localhost:8080/",
          "height": 34
        },
        "outputId": "7b4e4b21-30c7-4349-9d76-78e058d756d6"
      },
      "cell_type": "code",
      "source": [
        "import os\n",
        "import numpy as np\n",
        "import imageio\n",
        "import pandas as pd\n",
        "\n",
        "import tensorflow as tf\n",
        "\n",
        "from keras.models import Model, load_model\n",
        "from keras.models import Sequential\n",
        "from keras.layers import Input, BatchNormalization, Activation, UpSampling2D, ZeroPadding2D\n",
        "from keras.layers.core import Lambda, RepeatVector, Reshape\n",
        "from keras.layers.convolutional import Conv2D, Conv2DTranspose, Cropping2D\n",
        "from keras.layers.pooling import MaxPooling2D, AveragePooling2D\n",
        "from keras.layers.merge import concatenate\n",
        "from keras.callbacks import EarlyStopping, ModelCheckpoint, ReduceLROnPlateau\n",
        "from keras import backend as K\n",
        "\n",
        "from keras.applications.resnet50 import ResNet50\n",
        "from keras.preprocessing import image\n",
        "from keras.applications.resnet50 import preprocess_input, decode_predictions\n",
        "from keras import optimizers\n",
        "\n",
        "import sys\n",
        "from tqdm import tqdm\n",
        "from keras.preprocessing.image import ImageDataGenerator, array_to_img, img_to_array, load_img\n",
        "from skimage.transform import resize\n",
        "from sklearn.model_selection import train_test_split"
      ],
      "execution_count": 0,
      "outputs": [
        {
          "output_type": "stream",
          "text": [
            "Using TensorFlow backend.\n"
          ],
          "name": "stderr"
        }
      ]
    },
    {
      "metadata": {
        "id": "zK52VZqtNL1c",
        "colab_type": "text"
      },
      "cell_type": "markdown",
      "source": [
        "# Helper Classes"
      ]
    },
    {
      "metadata": {
        "id": "YebzzJQiMFji",
        "colab_type": "code",
        "colab": {}
      },
      "cell_type": "code",
      "source": [
        "# convert rle to mask image\n",
        "def rleToMask(rleString,height,width):\n",
        "    rows,cols = height,width\n",
        "    try:\n",
        "        #get numbers\n",
        "        rleNumbers = [int(numstring) for numstring in rleString.split(' ')]\n",
        "        #get pairs\n",
        "        rlePairs = np.array(rleNumbers).reshape(-1,2)\n",
        "        #create an image\n",
        "        img = np.zeros(rows*cols,dtype=np.uint8)\n",
        "        #for each pair\n",
        "        for index,length in rlePairs:\n",
        "            #get the pixel value \n",
        "            index -= 1\n",
        "            img[index:index+length] = 255\n",
        "        #reshape\n",
        "        img = img.reshape(cols,rows)\n",
        "        img = img.T    \n",
        "    #else return empty image\n",
        "    except:\n",
        "        img = np.zeros((cols,rows))\n",
        "    return img\n",
        "\n",
        "# resize predicted mask to original size  \n",
        "def resize_mask(x):\n",
        "  resized_mask = resize(x, (101, 101, 1), mode='constant', preserve_range=True)\n",
        "  return resized_mask\n",
        "\n",
        "# binarize the output probabilities  \n",
        "def binarize(x, threshold):\n",
        "  bz = np.where(x>threshold, 1, 0)\n",
        "  return bz\n",
        "\n",
        "# encode predicted mask to rle \n",
        "def run_length_encoding(x):\n",
        "    # https://www.kaggle.com/c/data-science-bowl-2018/discussion/48561#\n",
        "    bs = np.where(x.T.flatten())[0]\n",
        "    rle = []\n",
        "    prev = -2\n",
        "    for b in bs:\n",
        "        if (b > prev + 1):\n",
        "            rle.extend((b + 1, 0))\n",
        "        rle[-1] += 1\n",
        "        prev = b\n",
        "    return rle\n",
        "\n",
        "# generate submission dataframe\n",
        "def create_submission(metalist, predictions):\n",
        "    output = []\n",
        "    for image_id, mask in zip(metalist, predictions):\n",
        "        resized_mask = resize_mask(mask)\n",
        "        bz_mask = binarize(resized_mask, 0.5)\n",
        "        rle_encoded = ' '.join(str(rle) for rle in run_length_encoding(bz_mask))\n",
        "        output.append([image_id, rle_encoded])\n",
        "\n",
        "    submission = pd.DataFrame(output, columns=['id', 'rle_mask']).astype(str)\n",
        "    return submission"
      ],
      "execution_count": 0,
      "outputs": []
    },
    {
      "metadata": {
        "id": "HbL7BrC9MiBM",
        "colab_type": "code",
        "colab": {}
      },
      "cell_type": "code",
      "source": [
        "target_size = 128\n",
        "def upsample(imglist):\n",
        "  outlist = []\n",
        "  for img in imglist:\n",
        "    res = np.stack([img for i in range(3)], axis = -1)\n",
        "    res = resize(res, (target_size, target_size), mode='constant', preserve_range=True) \n",
        "    outlist.append(res)\n",
        "  return outlist\n",
        "\n",
        "def upsample_mask(imglist):\n",
        "  outlist = []\n",
        "  for img in imglist:\n",
        "    res = resize(img, (target_size, target_size), mode='constant', preserve_range=True) \n",
        "    outlist.append(res)\n",
        "  return outlist"
      ],
      "execution_count": 0,
      "outputs": []
    },
    {
      "metadata": {
        "id": "StKo-ohGrcCz",
        "colab_type": "text"
      },
      "cell_type": "markdown",
      "source": [
        "### Helper function to print status of layers (trainable/non-trainable)"
      ]
    },
    {
      "metadata": {
        "id": "Y1C90xTIrbQE",
        "colab_type": "code",
        "colab": {}
      },
      "cell_type": "code",
      "source": [
        "def print_layer_trainable(model):\n",
        "    for layer in model.layers:\n",
        "        print(\"{0}:\\t{1}\".format(layer.trainable, layer.name))"
      ],
      "execution_count": 0,
      "outputs": []
    },
    {
      "metadata": {
        "id": "qVNintQZNOJG",
        "colab_type": "text"
      },
      "cell_type": "markdown",
      "source": [
        "# Import Dataset"
      ]
    },
    {
      "metadata": {
        "id": "_FURYM2fMUIM",
        "colab_type": "code",
        "colab": {}
      },
      "cell_type": "code",
      "source": [
        "# upload kaggle.json\n",
        "from google.colab import files\n",
        "files.upload()"
      ],
      "execution_count": 0,
      "outputs": []
    },
    {
      "metadata": {
        "id": "lZOMdnUvM2pN",
        "colab_type": "code",
        "colab": {}
      },
      "cell_type": "code",
      "source": [
        "#ensure its there\n",
        "!ls -lha kaggle.json"
      ],
      "execution_count": 0,
      "outputs": []
    },
    {
      "metadata": {
        "id": "YnKCzGsvM8m7",
        "colab_type": "code",
        "colab": {}
      },
      "cell_type": "code",
      "source": [
        "# The Kaggle API client expects this file to be in ~/.kaggle,\n",
        "# so lets move it there.\n",
        "!mkdir -p ~/.kaggle\n",
        "!cp kaggle.json ~/.kaggle/\n",
        "\n",
        "# This permissions change avoids a warning on Kaggle tool startup.\n",
        "!chmod 600 ~/.kaggle/kaggle.json"
      ],
      "execution_count": 0,
      "outputs": []
    },
    {
      "metadata": {
        "id": "Wox9M90RM-iN",
        "colab_type": "code",
        "colab": {
          "base_uri": "https://localhost:8080/",
          "height": 273
        },
        "outputId": "917ecff0-62b4-4e8a-a4a6-8ff03a9d5e56"
      },
      "cell_type": "code",
      "source": [
        "#lets now download our dataset\n",
        "!kaggle competitions download -c tgs-salt-identification-challenge "
      ],
      "execution_count": 0,
      "outputs": [
        {
          "output_type": "stream",
          "text": [
            "Downloading depths.csv to /content\n",
            "\r  0% 0.00/322k [00:00<?, ?B/s]\n",
            "100% 322k/322k [00:00<00:00, 72.0MB/s]\n",
            "Downloading sample_submission.csv to /content\n",
            "  0% 0.00/264k [00:00<?, ?B/s]\n",
            "100% 264k/264k [00:00<00:00, 84.7MB/s]\n",
            "Downloading train.csv to /content\n",
            "  0% 0.00/922k [00:00<?, ?B/s]\n",
            "100% 922k/922k [00:00<00:00, 82.1MB/s]\n",
            "Downloading test.zip to /content\n",
            " 94% 153M/163M [00:03<00:00, 58.6MB/s]\n",
            "100% 163M/163M [00:03<00:00, 47.8MB/s]\n",
            "Downloading train.zip to /content\n",
            " 69% 26.0M/37.9M [00:00<00:00, 32.9MB/s]\n",
            "100% 37.9M/37.9M [00:00<00:00, 96.0MB/s]\n"
          ],
          "name": "stdout"
        }
      ]
    },
    {
      "metadata": {
        "id": "jemc97zLNAyi",
        "colab_type": "code",
        "colab": {}
      },
      "cell_type": "code",
      "source": [
        "#and we'll need those training images unzipped\n",
        "!ls\n",
        "!unzip train.zip"
      ],
      "execution_count": 0,
      "outputs": []
    },
    {
      "metadata": {
        "id": "_L5iIv9zXCcR",
        "colab_type": "code",
        "colab": {}
      },
      "cell_type": "code",
      "source": [
        "!unzip test.zip -d test/"
      ],
      "execution_count": 0,
      "outputs": []
    },
    {
      "metadata": {
        "id": "QcOm4mNoNke3",
        "colab_type": "text"
      },
      "cell_type": "markdown",
      "source": [
        "# Initialize"
      ]
    },
    {
      "metadata": {
        "id": "jDzNltqAN2aM",
        "colab_type": "code",
        "colab": {
          "base_uri": "https://localhost:8080/",
          "height": 51
        },
        "outputId": "fe923c4f-8c6b-406e-8bca-6508ee14aba2"
      },
      "cell_type": "code",
      "source": [
        "!ls"
      ],
      "execution_count": 0,
      "outputs": [
        {
          "output_type": "stream",
          "text": [
            "depths.csv  kaggle.json  sample_data\t\ttest\t  train.csv\n",
            "images\t    masks\t sample_submission.csv\ttest.zip  train.zip\n"
          ],
          "name": "stdout"
        }
      ]
    },
    {
      "metadata": {
        "id": "GBEJU5bZNhWK",
        "colab_type": "code",
        "colab": {}
      },
      "cell_type": "code",
      "source": [
        "train_df = pd.read_csv(\"train.csv\", index_col=\"id\", usecols=[0])\n",
        "depths_df = pd.read_csv(\"depths.csv\", index_col=\"id\")\n",
        "train_df = train_df.join(depths_df)"
      ],
      "execution_count": 0,
      "outputs": []
    },
    {
      "metadata": {
        "id": "0v10iZtuN5Zj",
        "colab_type": "code",
        "colab": {
          "base_uri": "https://localhost:8080/",
          "height": 34
        },
        "outputId": "65c96539-f7d9-455d-9a05-eac147272d40"
      },
      "cell_type": "code",
      "source": [
        "train_df[\"images\"] = [np.array(load_img(\"images/{}.png\".format(idx), grayscale=True)) / 255 for idx in tqdm(train_df.index)]"
      ],
      "execution_count": 0,
      "outputs": [
        {
          "output_type": "stream",
          "text": [
            "100%|██████████| 4000/4000 [00:03<00:00, 1105.04it/s]\n"
          ],
          "name": "stderr"
        }
      ]
    },
    {
      "metadata": {
        "id": "zSDrVF3UOa_X",
        "colab_type": "code",
        "colab": {
          "base_uri": "https://localhost:8080/",
          "height": 34
        },
        "outputId": "489991d0-3067-493c-e430-43e35a4426c5"
      },
      "cell_type": "code",
      "source": [
        "train_df[\"masks\"] = [np.array(load_img(\"masks/{}.png\".format(idx), grayscale=True)) / 255 for idx in tqdm(train_df.index)]"
      ],
      "execution_count": 0,
      "outputs": [
        {
          "output_type": "stream",
          "text": [
            "100%|██████████| 4000/4000 [00:02<00:00, 1809.23it/s]\n"
          ],
          "name": "stderr"
        }
      ]
    },
    {
      "metadata": {
        "id": "spDNxZ5AMBlE",
        "colab_type": "text"
      },
      "cell_type": "markdown",
      "source": [
        "# Salt coverage stratification"
      ]
    },
    {
      "metadata": {
        "id": "P7UdMrG2MElE",
        "colab_type": "code",
        "colab": {}
      },
      "cell_type": "code",
      "source": [
        "train_df[\"coverage\"] = train_df.masks.map(np.sum) / pow(101, 2)"
      ],
      "execution_count": 0,
      "outputs": []
    },
    {
      "metadata": {
        "id": "fARc9m14MH2E",
        "colab_type": "code",
        "colab": {}
      },
      "cell_type": "code",
      "source": [
        "def cov_to_class(val):    \n",
        "    for i in range(0, 11):\n",
        "        if val * 10 <= i :\n",
        "            return i\n",
        "train_df[\"coverage_class\"] = train_df.coverage.map(cov_to_class)"
      ],
      "execution_count": 0,
      "outputs": []
    },
    {
      "metadata": {
        "id": "lFYnr00sewkS",
        "colab_type": "code",
        "colab": {}
      },
      "cell_type": "code",
      "source": [
        "X = upsample(train_df.images.values.tolist()) \n",
        "X = np.array(X).reshape(-1, 128, 128, 3)"
      ],
      "execution_count": 0,
      "outputs": []
    },
    {
      "metadata": {
        "id": "lFtWbN_ggO44",
        "colab_type": "code",
        "colab": {}
      },
      "cell_type": "code",
      "source": [
        "Y = upsample_mask(train_df.masks.values.tolist())\n",
        "Y = np.array(Y).reshape(-1, 128, 128, 1)"
      ],
      "execution_count": 0,
      "outputs": []
    },
    {
      "metadata": {
        "id": "aRxW9pzuMPKe",
        "colab_type": "code",
        "colab": {}
      },
      "cell_type": "code",
      "source": [
        "ids_train, ids_valid, x_train, x_valid, y_train, y_valid, cov_train, cov_valid, depth_train, depth_valid = train_test_split(\n",
        "    train_df.index.values,\n",
        "    X,\n",
        "    Y,\n",
        "    train_df.coverage.values,\n",
        "    train_df.z.values,\n",
        "    test_size=0.10, stratify=train_df.coverage_class)"
      ],
      "execution_count": 0,
      "outputs": []
    },
    {
      "metadata": {
        "id": "POspvyTREfLp",
        "colab_type": "text"
      },
      "cell_type": "markdown",
      "source": [
        "# Augmentation"
      ]
    },
    {
      "metadata": {
        "id": "EXE-VhFWBBRx",
        "colab_type": "code",
        "colab": {}
      },
      "cell_type": "code",
      "source": [
        "image_datagen = image.ImageDataGenerator(horizontal_flip=True, vertical_flip=True)\n",
        "mask_datagen = image.ImageDataGenerator(horizontal_flip=True, vertical_flip=True)\n",
        "\n",
        "# Provide the same seed and keyword arguments to the fit and flow methods\n",
        "seed = 1\n",
        "\n",
        "image_datagen.fit(x_train, augment=True, seed=seed)\n",
        "mask_datagen.fit(y_train, augment=True, seed=seed)\n",
        "\n",
        "x_generator = image_datagen.flow(x_train,depth_train,batch_size=16,seed=seed)\n",
        "y_generator = mask_datagen.flow(y_train,batch_size=16,seed=seed)\n",
        "\n",
        "# combine generators into one which yields image and masks\n",
        "train_generator = zip(x_generator, y_generator)"
      ],
      "execution_count": 0,
      "outputs": []
    },
    {
      "metadata": {
        "id": "svQFcS0FOFP_",
        "colab_type": "text"
      },
      "cell_type": "markdown",
      "source": [
        "# Build ResNet50+UNet model"
      ]
    },
    {
      "metadata": {
        "id": "bBujaaDvC5db",
        "colab_type": "code",
        "colab": {
          "base_uri": "https://localhost:8080/",
          "height": 51
        },
        "outputId": "ff86c6b7-9eb7-4db8-a52d-e5e8bb1aba6b"
      },
      "cell_type": "code",
      "source": [
        "ResNet50 = ResNet50(weights='imagenet', include_top=False, input_shape=(256, 256, 3))"
      ],
      "execution_count": 0,
      "outputs": [
        {
          "output_type": "stream",
          "text": [
            "Downloading data from https://github.com/fchollet/deep-learning-models/releases/download/v0.2/resnet50_weights_tf_dim_ordering_tf_kernels_notop.h5\n",
            "94658560/94653016 [==============================] - 8s 0us/step\n"
          ],
          "name": "stdout"
        }
      ]
    },
    {
      "metadata": {
        "id": "1S2XxJMNVEe8",
        "colab_type": "code",
        "colab": {
          "base_uri": "https://localhost:8080/",
          "height": 6393
        },
        "outputId": "c41c0394-2a89-43f2-c375-515655fcc8a8"
      },
      "cell_type": "code",
      "source": [
        "ResNet50.summary()"
      ],
      "execution_count": 0,
      "outputs": [
        {
          "output_type": "stream",
          "text": [
            "__________________________________________________________________________________________________\n",
            "Layer (type)                    Output Shape         Param #     Connected to                     \n",
            "==================================================================================================\n",
            "input_1 (InputLayer)            (None, 256, 256, 3)  0                                            \n",
            "__________________________________________________________________________________________________\n",
            "conv1_pad (ZeroPadding2D)       (None, 262, 262, 3)  0           input_1[0][0]                    \n",
            "__________________________________________________________________________________________________\n",
            "conv1 (Conv2D)                  (None, 128, 128, 64) 9472        conv1_pad[0][0]                  \n",
            "__________________________________________________________________________________________________\n",
            "bn_conv1 (BatchNormalization)   (None, 128, 128, 64) 256         conv1[0][0]                      \n",
            "__________________________________________________________________________________________________\n",
            "activation_1 (Activation)       (None, 128, 128, 64) 0           bn_conv1[0][0]                   \n",
            "__________________________________________________________________________________________________\n",
            "max_pooling2d_1 (MaxPooling2D)  (None, 63, 63, 64)   0           activation_1[0][0]               \n",
            "__________________________________________________________________________________________________\n",
            "res2a_branch2a (Conv2D)         (None, 63, 63, 64)   4160        max_pooling2d_1[0][0]            \n",
            "__________________________________________________________________________________________________\n",
            "bn2a_branch2a (BatchNormalizati (None, 63, 63, 64)   256         res2a_branch2a[0][0]             \n",
            "__________________________________________________________________________________________________\n",
            "activation_2 (Activation)       (None, 63, 63, 64)   0           bn2a_branch2a[0][0]              \n",
            "__________________________________________________________________________________________________\n",
            "res2a_branch2b (Conv2D)         (None, 63, 63, 64)   36928       activation_2[0][0]               \n",
            "__________________________________________________________________________________________________\n",
            "bn2a_branch2b (BatchNormalizati (None, 63, 63, 64)   256         res2a_branch2b[0][0]             \n",
            "__________________________________________________________________________________________________\n",
            "activation_3 (Activation)       (None, 63, 63, 64)   0           bn2a_branch2b[0][0]              \n",
            "__________________________________________________________________________________________________\n",
            "res2a_branch2c (Conv2D)         (None, 63, 63, 256)  16640       activation_3[0][0]               \n",
            "__________________________________________________________________________________________________\n",
            "res2a_branch1 (Conv2D)          (None, 63, 63, 256)  16640       max_pooling2d_1[0][0]            \n",
            "__________________________________________________________________________________________________\n",
            "bn2a_branch2c (BatchNormalizati (None, 63, 63, 256)  1024        res2a_branch2c[0][0]             \n",
            "__________________________________________________________________________________________________\n",
            "bn2a_branch1 (BatchNormalizatio (None, 63, 63, 256)  1024        res2a_branch1[0][0]              \n",
            "__________________________________________________________________________________________________\n",
            "add_1 (Add)                     (None, 63, 63, 256)  0           bn2a_branch2c[0][0]              \n",
            "                                                                 bn2a_branch1[0][0]               \n",
            "__________________________________________________________________________________________________\n",
            "activation_4 (Activation)       (None, 63, 63, 256)  0           add_1[0][0]                      \n",
            "__________________________________________________________________________________________________\n",
            "res2b_branch2a (Conv2D)         (None, 63, 63, 64)   16448       activation_4[0][0]               \n",
            "__________________________________________________________________________________________________\n",
            "bn2b_branch2a (BatchNormalizati (None, 63, 63, 64)   256         res2b_branch2a[0][0]             \n",
            "__________________________________________________________________________________________________\n",
            "activation_5 (Activation)       (None, 63, 63, 64)   0           bn2b_branch2a[0][0]              \n",
            "__________________________________________________________________________________________________\n",
            "res2b_branch2b (Conv2D)         (None, 63, 63, 64)   36928       activation_5[0][0]               \n",
            "__________________________________________________________________________________________________\n",
            "bn2b_branch2b (BatchNormalizati (None, 63, 63, 64)   256         res2b_branch2b[0][0]             \n",
            "__________________________________________________________________________________________________\n",
            "activation_6 (Activation)       (None, 63, 63, 64)   0           bn2b_branch2b[0][0]              \n",
            "__________________________________________________________________________________________________\n",
            "res2b_branch2c (Conv2D)         (None, 63, 63, 256)  16640       activation_6[0][0]               \n",
            "__________________________________________________________________________________________________\n",
            "bn2b_branch2c (BatchNormalizati (None, 63, 63, 256)  1024        res2b_branch2c[0][0]             \n",
            "__________________________________________________________________________________________________\n",
            "add_2 (Add)                     (None, 63, 63, 256)  0           bn2b_branch2c[0][0]              \n",
            "                                                                 activation_4[0][0]               \n",
            "__________________________________________________________________________________________________\n",
            "activation_7 (Activation)       (None, 63, 63, 256)  0           add_2[0][0]                      \n",
            "__________________________________________________________________________________________________\n",
            "res2c_branch2a (Conv2D)         (None, 63, 63, 64)   16448       activation_7[0][0]               \n",
            "__________________________________________________________________________________________________\n",
            "bn2c_branch2a (BatchNormalizati (None, 63, 63, 64)   256         res2c_branch2a[0][0]             \n",
            "__________________________________________________________________________________________________\n",
            "activation_8 (Activation)       (None, 63, 63, 64)   0           bn2c_branch2a[0][0]              \n",
            "__________________________________________________________________________________________________\n",
            "res2c_branch2b (Conv2D)         (None, 63, 63, 64)   36928       activation_8[0][0]               \n",
            "__________________________________________________________________________________________________\n",
            "bn2c_branch2b (BatchNormalizati (None, 63, 63, 64)   256         res2c_branch2b[0][0]             \n",
            "__________________________________________________________________________________________________\n",
            "activation_9 (Activation)       (None, 63, 63, 64)   0           bn2c_branch2b[0][0]              \n",
            "__________________________________________________________________________________________________\n",
            "res2c_branch2c (Conv2D)         (None, 63, 63, 256)  16640       activation_9[0][0]               \n",
            "__________________________________________________________________________________________________\n",
            "bn2c_branch2c (BatchNormalizati (None, 63, 63, 256)  1024        res2c_branch2c[0][0]             \n",
            "__________________________________________________________________________________________________\n",
            "add_3 (Add)                     (None, 63, 63, 256)  0           bn2c_branch2c[0][0]              \n",
            "                                                                 activation_7[0][0]               \n",
            "__________________________________________________________________________________________________\n",
            "activation_10 (Activation)      (None, 63, 63, 256)  0           add_3[0][0]                      \n",
            "__________________________________________________________________________________________________\n",
            "res3a_branch2a (Conv2D)         (None, 32, 32, 128)  32896       activation_10[0][0]              \n",
            "__________________________________________________________________________________________________\n",
            "bn3a_branch2a (BatchNormalizati (None, 32, 32, 128)  512         res3a_branch2a[0][0]             \n",
            "__________________________________________________________________________________________________\n",
            "activation_11 (Activation)      (None, 32, 32, 128)  0           bn3a_branch2a[0][0]              \n",
            "__________________________________________________________________________________________________\n",
            "res3a_branch2b (Conv2D)         (None, 32, 32, 128)  147584      activation_11[0][0]              \n",
            "__________________________________________________________________________________________________\n",
            "bn3a_branch2b (BatchNormalizati (None, 32, 32, 128)  512         res3a_branch2b[0][0]             \n",
            "__________________________________________________________________________________________________\n",
            "activation_12 (Activation)      (None, 32, 32, 128)  0           bn3a_branch2b[0][0]              \n",
            "__________________________________________________________________________________________________\n",
            "res3a_branch2c (Conv2D)         (None, 32, 32, 512)  66048       activation_12[0][0]              \n",
            "__________________________________________________________________________________________________\n",
            "res3a_branch1 (Conv2D)          (None, 32, 32, 512)  131584      activation_10[0][0]              \n",
            "__________________________________________________________________________________________________\n",
            "bn3a_branch2c (BatchNormalizati (None, 32, 32, 512)  2048        res3a_branch2c[0][0]             \n",
            "__________________________________________________________________________________________________\n",
            "bn3a_branch1 (BatchNormalizatio (None, 32, 32, 512)  2048        res3a_branch1[0][0]              \n",
            "__________________________________________________________________________________________________\n",
            "add_4 (Add)                     (None, 32, 32, 512)  0           bn3a_branch2c[0][0]              \n",
            "                                                                 bn3a_branch1[0][0]               \n",
            "__________________________________________________________________________________________________\n",
            "activation_13 (Activation)      (None, 32, 32, 512)  0           add_4[0][0]                      \n",
            "__________________________________________________________________________________________________\n",
            "res3b_branch2a (Conv2D)         (None, 32, 32, 128)  65664       activation_13[0][0]              \n",
            "__________________________________________________________________________________________________\n",
            "bn3b_branch2a (BatchNormalizati (None, 32, 32, 128)  512         res3b_branch2a[0][0]             \n",
            "__________________________________________________________________________________________________\n",
            "activation_14 (Activation)      (None, 32, 32, 128)  0           bn3b_branch2a[0][0]              \n",
            "__________________________________________________________________________________________________\n",
            "res3b_branch2b (Conv2D)         (None, 32, 32, 128)  147584      activation_14[0][0]              \n",
            "__________________________________________________________________________________________________\n",
            "bn3b_branch2b (BatchNormalizati (None, 32, 32, 128)  512         res3b_branch2b[0][0]             \n",
            "__________________________________________________________________________________________________\n",
            "activation_15 (Activation)      (None, 32, 32, 128)  0           bn3b_branch2b[0][0]              \n",
            "__________________________________________________________________________________________________\n",
            "res3b_branch2c (Conv2D)         (None, 32, 32, 512)  66048       activation_15[0][0]              \n",
            "__________________________________________________________________________________________________\n",
            "bn3b_branch2c (BatchNormalizati (None, 32, 32, 512)  2048        res3b_branch2c[0][0]             \n",
            "__________________________________________________________________________________________________\n",
            "add_5 (Add)                     (None, 32, 32, 512)  0           bn3b_branch2c[0][0]              \n",
            "                                                                 activation_13[0][0]              \n",
            "__________________________________________________________________________________________________\n",
            "activation_16 (Activation)      (None, 32, 32, 512)  0           add_5[0][0]                      \n",
            "__________________________________________________________________________________________________\n",
            "res3c_branch2a (Conv2D)         (None, 32, 32, 128)  65664       activation_16[0][0]              \n",
            "__________________________________________________________________________________________________\n",
            "bn3c_branch2a (BatchNormalizati (None, 32, 32, 128)  512         res3c_branch2a[0][0]             \n",
            "__________________________________________________________________________________________________\n",
            "activation_17 (Activation)      (None, 32, 32, 128)  0           bn3c_branch2a[0][0]              \n",
            "__________________________________________________________________________________________________\n",
            "res3c_branch2b (Conv2D)         (None, 32, 32, 128)  147584      activation_17[0][0]              \n",
            "__________________________________________________________________________________________________\n",
            "bn3c_branch2b (BatchNormalizati (None, 32, 32, 128)  512         res3c_branch2b[0][0]             \n",
            "__________________________________________________________________________________________________\n",
            "activation_18 (Activation)      (None, 32, 32, 128)  0           bn3c_branch2b[0][0]              \n",
            "__________________________________________________________________________________________________\n",
            "res3c_branch2c (Conv2D)         (None, 32, 32, 512)  66048       activation_18[0][0]              \n",
            "__________________________________________________________________________________________________\n",
            "bn3c_branch2c (BatchNormalizati (None, 32, 32, 512)  2048        res3c_branch2c[0][0]             \n",
            "__________________________________________________________________________________________________\n",
            "add_6 (Add)                     (None, 32, 32, 512)  0           bn3c_branch2c[0][0]              \n",
            "                                                                 activation_16[0][0]              \n",
            "__________________________________________________________________________________________________\n",
            "activation_19 (Activation)      (None, 32, 32, 512)  0           add_6[0][0]                      \n",
            "__________________________________________________________________________________________________\n",
            "res3d_branch2a (Conv2D)         (None, 32, 32, 128)  65664       activation_19[0][0]              \n",
            "__________________________________________________________________________________________________\n",
            "bn3d_branch2a (BatchNormalizati (None, 32, 32, 128)  512         res3d_branch2a[0][0]             \n",
            "__________________________________________________________________________________________________\n",
            "activation_20 (Activation)      (None, 32, 32, 128)  0           bn3d_branch2a[0][0]              \n",
            "__________________________________________________________________________________________________\n",
            "res3d_branch2b (Conv2D)         (None, 32, 32, 128)  147584      activation_20[0][0]              \n",
            "__________________________________________________________________________________________________\n",
            "bn3d_branch2b (BatchNormalizati (None, 32, 32, 128)  512         res3d_branch2b[0][0]             \n",
            "__________________________________________________________________________________________________\n",
            "activation_21 (Activation)      (None, 32, 32, 128)  0           bn3d_branch2b[0][0]              \n",
            "__________________________________________________________________________________________________\n",
            "res3d_branch2c (Conv2D)         (None, 32, 32, 512)  66048       activation_21[0][0]              \n",
            "__________________________________________________________________________________________________\n",
            "bn3d_branch2c (BatchNormalizati (None, 32, 32, 512)  2048        res3d_branch2c[0][0]             \n",
            "__________________________________________________________________________________________________\n",
            "add_7 (Add)                     (None, 32, 32, 512)  0           bn3d_branch2c[0][0]              \n",
            "                                                                 activation_19[0][0]              \n",
            "__________________________________________________________________________________________________\n",
            "activation_22 (Activation)      (None, 32, 32, 512)  0           add_7[0][0]                      \n",
            "__________________________________________________________________________________________________\n",
            "res4a_branch2a (Conv2D)         (None, 16, 16, 256)  131328      activation_22[0][0]              \n",
            "__________________________________________________________________________________________________\n",
            "bn4a_branch2a (BatchNormalizati (None, 16, 16, 256)  1024        res4a_branch2a[0][0]             \n",
            "__________________________________________________________________________________________________\n",
            "activation_23 (Activation)      (None, 16, 16, 256)  0           bn4a_branch2a[0][0]              \n",
            "__________________________________________________________________________________________________\n",
            "res4a_branch2b (Conv2D)         (None, 16, 16, 256)  590080      activation_23[0][0]              \n",
            "__________________________________________________________________________________________________\n",
            "bn4a_branch2b (BatchNormalizati (None, 16, 16, 256)  1024        res4a_branch2b[0][0]             \n",
            "__________________________________________________________________________________________________\n",
            "activation_24 (Activation)      (None, 16, 16, 256)  0           bn4a_branch2b[0][0]              \n",
            "__________________________________________________________________________________________________\n",
            "res4a_branch2c (Conv2D)         (None, 16, 16, 1024) 263168      activation_24[0][0]              \n",
            "__________________________________________________________________________________________________\n",
            "res4a_branch1 (Conv2D)          (None, 16, 16, 1024) 525312      activation_22[0][0]              \n",
            "__________________________________________________________________________________________________\n",
            "bn4a_branch2c (BatchNormalizati (None, 16, 16, 1024) 4096        res4a_branch2c[0][0]             \n",
            "__________________________________________________________________________________________________\n",
            "bn4a_branch1 (BatchNormalizatio (None, 16, 16, 1024) 4096        res4a_branch1[0][0]              \n",
            "__________________________________________________________________________________________________\n",
            "add_8 (Add)                     (None, 16, 16, 1024) 0           bn4a_branch2c[0][0]              \n",
            "                                                                 bn4a_branch1[0][0]               \n",
            "__________________________________________________________________________________________________\n",
            "activation_25 (Activation)      (None, 16, 16, 1024) 0           add_8[0][0]                      \n",
            "__________________________________________________________________________________________________\n",
            "res4b_branch2a (Conv2D)         (None, 16, 16, 256)  262400      activation_25[0][0]              \n",
            "__________________________________________________________________________________________________\n",
            "bn4b_branch2a (BatchNormalizati (None, 16, 16, 256)  1024        res4b_branch2a[0][0]             \n",
            "__________________________________________________________________________________________________\n",
            "activation_26 (Activation)      (None, 16, 16, 256)  0           bn4b_branch2a[0][0]              \n",
            "__________________________________________________________________________________________________\n",
            "res4b_branch2b (Conv2D)         (None, 16, 16, 256)  590080      activation_26[0][0]              \n",
            "__________________________________________________________________________________________________\n",
            "bn4b_branch2b (BatchNormalizati (None, 16, 16, 256)  1024        res4b_branch2b[0][0]             \n",
            "__________________________________________________________________________________________________\n",
            "activation_27 (Activation)      (None, 16, 16, 256)  0           bn4b_branch2b[0][0]              \n",
            "__________________________________________________________________________________________________\n",
            "res4b_branch2c (Conv2D)         (None, 16, 16, 1024) 263168      activation_27[0][0]              \n",
            "__________________________________________________________________________________________________\n",
            "bn4b_branch2c (BatchNormalizati (None, 16, 16, 1024) 4096        res4b_branch2c[0][0]             \n",
            "__________________________________________________________________________________________________\n",
            "add_9 (Add)                     (None, 16, 16, 1024) 0           bn4b_branch2c[0][0]              \n",
            "                                                                 activation_25[0][0]              \n",
            "__________________________________________________________________________________________________\n",
            "activation_28 (Activation)      (None, 16, 16, 1024) 0           add_9[0][0]                      \n",
            "__________________________________________________________________________________________________\n",
            "res4c_branch2a (Conv2D)         (None, 16, 16, 256)  262400      activation_28[0][0]              \n",
            "__________________________________________________________________________________________________\n",
            "bn4c_branch2a (BatchNormalizati (None, 16, 16, 256)  1024        res4c_branch2a[0][0]             \n",
            "__________________________________________________________________________________________________\n",
            "activation_29 (Activation)      (None, 16, 16, 256)  0           bn4c_branch2a[0][0]              \n",
            "__________________________________________________________________________________________________\n",
            "res4c_branch2b (Conv2D)         (None, 16, 16, 256)  590080      activation_29[0][0]              \n",
            "__________________________________________________________________________________________________\n",
            "bn4c_branch2b (BatchNormalizati (None, 16, 16, 256)  1024        res4c_branch2b[0][0]             \n",
            "__________________________________________________________________________________________________\n",
            "activation_30 (Activation)      (None, 16, 16, 256)  0           bn4c_branch2b[0][0]              \n",
            "__________________________________________________________________________________________________\n",
            "res4c_branch2c (Conv2D)         (None, 16, 16, 1024) 263168      activation_30[0][0]              \n",
            "__________________________________________________________________________________________________\n",
            "bn4c_branch2c (BatchNormalizati (None, 16, 16, 1024) 4096        res4c_branch2c[0][0]             \n",
            "__________________________________________________________________________________________________\n",
            "add_10 (Add)                    (None, 16, 16, 1024) 0           bn4c_branch2c[0][0]              \n",
            "                                                                 activation_28[0][0]              \n",
            "__________________________________________________________________________________________________\n",
            "activation_31 (Activation)      (None, 16, 16, 1024) 0           add_10[0][0]                     \n",
            "__________________________________________________________________________________________________\n",
            "res4d_branch2a (Conv2D)         (None, 16, 16, 256)  262400      activation_31[0][0]              \n",
            "__________________________________________________________________________________________________\n",
            "bn4d_branch2a (BatchNormalizati (None, 16, 16, 256)  1024        res4d_branch2a[0][0]             \n",
            "__________________________________________________________________________________________________\n",
            "activation_32 (Activation)      (None, 16, 16, 256)  0           bn4d_branch2a[0][0]              \n",
            "__________________________________________________________________________________________________\n",
            "res4d_branch2b (Conv2D)         (None, 16, 16, 256)  590080      activation_32[0][0]              \n",
            "__________________________________________________________________________________________________\n",
            "bn4d_branch2b (BatchNormalizati (None, 16, 16, 256)  1024        res4d_branch2b[0][0]             \n",
            "__________________________________________________________________________________________________\n",
            "activation_33 (Activation)      (None, 16, 16, 256)  0           bn4d_branch2b[0][0]              \n",
            "__________________________________________________________________________________________________\n",
            "res4d_branch2c (Conv2D)         (None, 16, 16, 1024) 263168      activation_33[0][0]              \n",
            "__________________________________________________________________________________________________\n",
            "bn4d_branch2c (BatchNormalizati (None, 16, 16, 1024) 4096        res4d_branch2c[0][0]             \n",
            "__________________________________________________________________________________________________\n",
            "add_11 (Add)                    (None, 16, 16, 1024) 0           bn4d_branch2c[0][0]              \n",
            "                                                                 activation_31[0][0]              \n",
            "__________________________________________________________________________________________________\n",
            "activation_34 (Activation)      (None, 16, 16, 1024) 0           add_11[0][0]                     \n",
            "__________________________________________________________________________________________________\n",
            "res4e_branch2a (Conv2D)         (None, 16, 16, 256)  262400      activation_34[0][0]              \n",
            "__________________________________________________________________________________________________\n",
            "bn4e_branch2a (BatchNormalizati (None, 16, 16, 256)  1024        res4e_branch2a[0][0]             \n",
            "__________________________________________________________________________________________________\n",
            "activation_35 (Activation)      (None, 16, 16, 256)  0           bn4e_branch2a[0][0]              \n",
            "__________________________________________________________________________________________________\n",
            "res4e_branch2b (Conv2D)         (None, 16, 16, 256)  590080      activation_35[0][0]              \n",
            "__________________________________________________________________________________________________\n",
            "bn4e_branch2b (BatchNormalizati (None, 16, 16, 256)  1024        res4e_branch2b[0][0]             \n",
            "__________________________________________________________________________________________________\n",
            "activation_36 (Activation)      (None, 16, 16, 256)  0           bn4e_branch2b[0][0]              \n",
            "__________________________________________________________________________________________________\n",
            "res4e_branch2c (Conv2D)         (None, 16, 16, 1024) 263168      activation_36[0][0]              \n",
            "__________________________________________________________________________________________________\n",
            "bn4e_branch2c (BatchNormalizati (None, 16, 16, 1024) 4096        res4e_branch2c[0][0]             \n",
            "__________________________________________________________________________________________________\n",
            "add_12 (Add)                    (None, 16, 16, 1024) 0           bn4e_branch2c[0][0]              \n",
            "                                                                 activation_34[0][0]              \n",
            "__________________________________________________________________________________________________\n",
            "activation_37 (Activation)      (None, 16, 16, 1024) 0           add_12[0][0]                     \n",
            "__________________________________________________________________________________________________\n",
            "res4f_branch2a (Conv2D)         (None, 16, 16, 256)  262400      activation_37[0][0]              \n",
            "__________________________________________________________________________________________________\n",
            "bn4f_branch2a (BatchNormalizati (None, 16, 16, 256)  1024        res4f_branch2a[0][0]             \n",
            "__________________________________________________________________________________________________\n",
            "activation_38 (Activation)      (None, 16, 16, 256)  0           bn4f_branch2a[0][0]              \n",
            "__________________________________________________________________________________________________\n",
            "res4f_branch2b (Conv2D)         (None, 16, 16, 256)  590080      activation_38[0][0]              \n",
            "__________________________________________________________________________________________________\n",
            "bn4f_branch2b (BatchNormalizati (None, 16, 16, 256)  1024        res4f_branch2b[0][0]             \n",
            "__________________________________________________________________________________________________\n",
            "activation_39 (Activation)      (None, 16, 16, 256)  0           bn4f_branch2b[0][0]              \n",
            "__________________________________________________________________________________________________\n",
            "res4f_branch2c (Conv2D)         (None, 16, 16, 1024) 263168      activation_39[0][0]              \n",
            "__________________________________________________________________________________________________\n",
            "bn4f_branch2c (BatchNormalizati (None, 16, 16, 1024) 4096        res4f_branch2c[0][0]             \n",
            "__________________________________________________________________________________________________\n",
            "add_13 (Add)                    (None, 16, 16, 1024) 0           bn4f_branch2c[0][0]              \n",
            "                                                                 activation_37[0][0]              \n",
            "__________________________________________________________________________________________________\n",
            "activation_40 (Activation)      (None, 16, 16, 1024) 0           add_13[0][0]                     \n",
            "__________________________________________________________________________________________________\n",
            "res5a_branch2a (Conv2D)         (None, 8, 8, 512)    524800      activation_40[0][0]              \n",
            "__________________________________________________________________________________________________\n",
            "bn5a_branch2a (BatchNormalizati (None, 8, 8, 512)    2048        res5a_branch2a[0][0]             \n",
            "__________________________________________________________________________________________________\n",
            "activation_41 (Activation)      (None, 8, 8, 512)    0           bn5a_branch2a[0][0]              \n",
            "__________________________________________________________________________________________________\n",
            "res5a_branch2b (Conv2D)         (None, 8, 8, 512)    2359808     activation_41[0][0]              \n",
            "__________________________________________________________________________________________________\n",
            "bn5a_branch2b (BatchNormalizati (None, 8, 8, 512)    2048        res5a_branch2b[0][0]             \n",
            "__________________________________________________________________________________________________\n",
            "activation_42 (Activation)      (None, 8, 8, 512)    0           bn5a_branch2b[0][0]              \n",
            "__________________________________________________________________________________________________\n",
            "res5a_branch2c (Conv2D)         (None, 8, 8, 2048)   1050624     activation_42[0][0]              \n",
            "__________________________________________________________________________________________________\n",
            "res5a_branch1 (Conv2D)          (None, 8, 8, 2048)   2099200     activation_40[0][0]              \n",
            "__________________________________________________________________________________________________\n",
            "bn5a_branch2c (BatchNormalizati (None, 8, 8, 2048)   8192        res5a_branch2c[0][0]             \n",
            "__________________________________________________________________________________________________\n",
            "bn5a_branch1 (BatchNormalizatio (None, 8, 8, 2048)   8192        res5a_branch1[0][0]              \n",
            "__________________________________________________________________________________________________\n",
            "add_14 (Add)                    (None, 8, 8, 2048)   0           bn5a_branch2c[0][0]              \n",
            "                                                                 bn5a_branch1[0][0]               \n",
            "__________________________________________________________________________________________________\n",
            "activation_43 (Activation)      (None, 8, 8, 2048)   0           add_14[0][0]                     \n",
            "__________________________________________________________________________________________________\n",
            "res5b_branch2a (Conv2D)         (None, 8, 8, 512)    1049088     activation_43[0][0]              \n",
            "__________________________________________________________________________________________________\n",
            "bn5b_branch2a (BatchNormalizati (None, 8, 8, 512)    2048        res5b_branch2a[0][0]             \n",
            "__________________________________________________________________________________________________\n",
            "activation_44 (Activation)      (None, 8, 8, 512)    0           bn5b_branch2a[0][0]              \n",
            "__________________________________________________________________________________________________\n",
            "res5b_branch2b (Conv2D)         (None, 8, 8, 512)    2359808     activation_44[0][0]              \n",
            "__________________________________________________________________________________________________\n",
            "bn5b_branch2b (BatchNormalizati (None, 8, 8, 512)    2048        res5b_branch2b[0][0]             \n",
            "__________________________________________________________________________________________________\n",
            "activation_45 (Activation)      (None, 8, 8, 512)    0           bn5b_branch2b[0][0]              \n",
            "__________________________________________________________________________________________________\n",
            "res5b_branch2c (Conv2D)         (None, 8, 8, 2048)   1050624     activation_45[0][0]              \n",
            "__________________________________________________________________________________________________\n",
            "bn5b_branch2c (BatchNormalizati (None, 8, 8, 2048)   8192        res5b_branch2c[0][0]             \n",
            "__________________________________________________________________________________________________\n",
            "add_15 (Add)                    (None, 8, 8, 2048)   0           bn5b_branch2c[0][0]              \n",
            "                                                                 activation_43[0][0]              \n",
            "__________________________________________________________________________________________________\n",
            "activation_46 (Activation)      (None, 8, 8, 2048)   0           add_15[0][0]                     \n",
            "__________________________________________________________________________________________________\n",
            "res5c_branch2a (Conv2D)         (None, 8, 8, 512)    1049088     activation_46[0][0]              \n",
            "__________________________________________________________________________________________________\n",
            "bn5c_branch2a (BatchNormalizati (None, 8, 8, 512)    2048        res5c_branch2a[0][0]             \n",
            "__________________________________________________________________________________________________\n",
            "activation_47 (Activation)      (None, 8, 8, 512)    0           bn5c_branch2a[0][0]              \n",
            "__________________________________________________________________________________________________\n",
            "res5c_branch2b (Conv2D)         (None, 8, 8, 512)    2359808     activation_47[0][0]              \n",
            "__________________________________________________________________________________________________\n",
            "bn5c_branch2b (BatchNormalizati (None, 8, 8, 512)    2048        res5c_branch2b[0][0]             \n",
            "__________________________________________________________________________________________________\n",
            "activation_48 (Activation)      (None, 8, 8, 512)    0           bn5c_branch2b[0][0]              \n",
            "__________________________________________________________________________________________________\n",
            "res5c_branch2c (Conv2D)         (None, 8, 8, 2048)   1050624     activation_48[0][0]              \n",
            "__________________________________________________________________________________________________\n",
            "bn5c_branch2c (BatchNormalizati (None, 8, 8, 2048)   8192        res5c_branch2c[0][0]             \n",
            "__________________________________________________________________________________________________\n",
            "add_16 (Add)                    (None, 8, 8, 2048)   0           bn5c_branch2c[0][0]              \n",
            "                                                                 activation_46[0][0]              \n",
            "__________________________________________________________________________________________________\n",
            "activation_49 (Activation)      (None, 8, 8, 2048)   0           add_16[0][0]                     \n",
            "__________________________________________________________________________________________________\n",
            "avg_pool (AveragePooling2D)     (None, 1, 1, 2048)   0           activation_49[0][0]              \n",
            "==================================================================================================\n",
            "Total params: 23,587,712\n",
            "Trainable params: 23,534,592\n",
            "Non-trainable params: 53,120\n",
            "__________________________________________________________________________________________________\n"
          ],
          "name": "stdout"
        }
      ]
    },
    {
      "metadata": {
        "id": "DIV91De8t---",
        "colab_type": "text"
      },
      "cell_type": "markdown",
      "source": [
        "## Merge layers"
      ]
    },
    {
      "metadata": {
        "id": "V4mRGsXsktkU",
        "colab_type": "code",
        "colab": {}
      },
      "cell_type": "code",
      "source": [
        "transfer_layers = [ResNet50.get_layer('conv1_pad'), ResNet50.get_layer('activation_1'), ResNet50.get_layer('activation_10'), ResNet50.get_layer('activation_22'), ResNet50.get_layer('activation_40'), ResNet50.get_layer('activation_49')]"
      ],
      "execution_count": 0,
      "outputs": []
    },
    {
      "metadata": {
        "id": "986W_X02pSAu",
        "colab_type": "code",
        "colab": {
          "base_uri": "https://localhost:8080/",
          "height": 34
        },
        "outputId": "72519cbd-0890-4f61-c152-52c65a1903d7"
      },
      "cell_type": "code",
      "source": [
        "len(transfer_layers)"
      ],
      "execution_count": 0,
      "outputs": [
        {
          "output_type": "execute_result",
          "data": {
            "text/plain": [
              "6"
            ]
          },
          "metadata": {
            "tags": []
          },
          "execution_count": 28
        }
      ]
    },
    {
      "metadata": {
        "id": "lWH1GUoVkGff",
        "colab_type": "code",
        "colab": {
          "base_uri": "https://localhost:8080/",
          "height": 120
        },
        "outputId": "12c2eb22-121a-4dc2-8daa-b78020646f48"
      },
      "cell_type": "code",
      "source": [
        "for l in transfer_layers:\n",
        "  print(l.output.shape)"
      ],
      "execution_count": 0,
      "outputs": [
        {
          "output_type": "stream",
          "text": [
            "(?, 262, 262, 3)\n",
            "(?, 128, 128, 64)\n",
            "(?, 63, 63, 256)\n",
            "(?, 32, 32, 512)\n",
            "(?, 16, 16, 1024)\n",
            "(?, 8, 8, 2048)\n"
          ],
          "name": "stdout"
        }
      ]
    },
    {
      "metadata": {
        "id": "WIquTUfsiD02",
        "colab_type": "code",
        "colab": {}
      },
      "cell_type": "code",
      "source": [
        "im_width = 128\n",
        "im_height = 128\n",
        "\n",
        "im_chan = 3 \n",
        "n_features = 1 # Number of extra features, like depth"
      ],
      "execution_count": 0,
      "outputs": []
    },
    {
      "metadata": {
        "id": "zVnHwXxrmDf8",
        "colab_type": "code",
        "colab": {}
      },
      "cell_type": "code",
      "source": [
        "resnet50 = Model(inputs=ResNet50.input, outputs=[transfer_layers[i].output for i in range(6)])"
      ],
      "execution_count": 0,
      "outputs": []
    },
    {
      "metadata": {
        "id": "dDdSAj13pMfv",
        "colab_type": "code",
        "colab": {}
      },
      "cell_type": "code",
      "source": [
        "# Initial architecture\n",
        "input_img = Input((im_height, im_width, im_chan), name='img')\n",
        "input_features = Input((n_features, ), name='feat')\n",
        "up_0 = UpSampling2D()(input_img)\n",
        "Resnet = resnet50(up_0)"
      ],
      "execution_count": 0,
      "outputs": []
    },
    {
      "metadata": {
        "id": "6z5_TA1r746x",
        "colab_type": "text"
      },
      "cell_type": "markdown",
      "source": [
        "## Write Unet portion"
      ]
    },
    {
      "metadata": {
        "id": "M9CgW6Fs73MR",
        "colab_type": "code",
        "colab": {}
      },
      "cell_type": "code",
      "source": [
        "# Join features information in the deepest layer\n",
        "f_repeat = RepeatVector(8*8)(input_features)\n",
        "f_conv = Reshape((8, 8, n_features))(f_repeat)\n",
        "p4_feat = concatenate([Resnet[5], f_conv], -1)\n",
        "\n",
        "# 8x8\n",
        "u6 = Conv2DTranspose(1024, (2, 2), strides=(2, 2), padding='same') (p4_feat)\n",
        "b6 = BatchNormalization()(u6)\n",
        "# 16x16\n",
        "u6 = concatenate([u6, Resnet[4]])\n",
        "c6 = Conv2D(1024, (3, 3), activation='relu', padding='same') (u6)\n",
        "b6 = BatchNormalization()(c6)\n",
        "c6 = Conv2D(1024, (3, 3), activation='relu', padding='same') (b6)\n",
        "b6 = BatchNormalization()(c6)\n",
        "\n",
        "u7 = Conv2DTranspose(512, (2, 2), strides=(2, 2), padding='same') (c6)\n",
        "b7 = BatchNormalization()(u7)\n",
        "# 32x32\n",
        "u7 = concatenate([u7, Resnet[3]])\n",
        "c7 = Conv2D(512, (3, 3), activation='relu', padding='same') (u7)\n",
        "b7 = BatchNormalization()(c7)\n",
        "c7 = Conv2D(512, (3, 3), activation='relu', padding='same') (b7)\n",
        "b7 = BatchNormalization()(c7)\n",
        "\n",
        "\n",
        "u8 = Conv2DTranspose(256, (2, 2), strides=(2, 2), padding='same') (c7)\n",
        "b8 = BatchNormalization()(u8)\n",
        "# 64x64\n",
        "###### adjustment 63x63\n",
        "up8 = UpSampling2D()(b8)\n",
        "cr8 = Cropping2D(cropping=(1,1)) (up8)\n",
        "a8 = AveragePooling2D()(cr8)\n",
        "######\n",
        "u8 = concatenate([a8, Resnet[2]])\n",
        "###### again 64x64\n",
        "up8 = UpSampling2D()(u8)\n",
        "z8 = ZeroPadding2D()(up8)\n",
        "a8 = AveragePooling2D()(z8)\n",
        "######\n",
        "c8 = Conv2D(256, (3, 3), activation='relu', padding='same') (a8)\n",
        "b8 = BatchNormalization()(c8)\n",
        "c8 = Conv2D(256, (3, 3), activation='relu', padding=('same')) (c8)\n",
        "b8 = BatchNormalization()(c8)\n",
        "\n",
        "u9 = Conv2DTranspose(128, (2, 2), strides=(2, 2), padding='same') (c8)\n",
        "b9 = BatchNormalization()(u9)\n",
        "# 128x128\n",
        "u9 = concatenate([u9, Resnet[1]], axis=3)\n",
        "c9 = Conv2D(128, (3, 3), activation='relu', padding='same') (b9)\n",
        "b9 = BatchNormalization()(c9)\n",
        "c9 = Conv2D(128, (3, 3), activation='relu', padding='same') (b9)\n",
        "b9 = BatchNormalization()(c9)\n",
        "'''\n",
        "u10 = Conv2DTranspose(64, (2, 2), strides=(2, 2), padding='same') (c9)\n",
        "# 256x256\n",
        "###### adjustment 262x262\n",
        "z10 = ZeroPadding2D(padding=(3, 3))(u10)\n",
        "######\n",
        "u10 = concatenate([z10, Resnet[0]], axis=3)\n",
        "c10 = Conv2D(64, (3, 3), activation='relu', padding='valid') (u10)\n",
        "c10 = Conv2D(64, (3, 3), activation='relu', padding='valid') (c10)\n",
        "c10 = Conv2D(64, (3, 3), activation='relu', padding='valid') (c10)\n",
        "'''\n",
        "\n",
        "outputs = Conv2D(1, (1, 1), activation='sigmoid') (b9)\n",
        "\n",
        "model = Model(inputs=[input_img, input_features], outputs=[outputs])"
      ],
      "execution_count": 0,
      "outputs": []
    },
    {
      "metadata": {
        "id": "oBZ3kboQqhS7",
        "colab_type": "code",
        "colab": {
          "base_uri": "https://localhost:8080/",
          "height": 1402
        },
        "outputId": "54bc7aed-68c3-4b1f-df07-e3d4677cb98c"
      },
      "cell_type": "code",
      "source": [
        "model.summary()"
      ],
      "execution_count": 0,
      "outputs": [
        {
          "output_type": "stream",
          "text": [
            "__________________________________________________________________________________________________\n",
            "Layer (type)                    Output Shape         Param #     Connected to                     \n",
            "==================================================================================================\n",
            "img (InputLayer)                (None, 128, 128, 3)  0                                            \n",
            "__________________________________________________________________________________________________\n",
            "feat (InputLayer)               (None, 1)            0                                            \n",
            "__________________________________________________________________________________________________\n",
            "up_sampling2d_1 (UpSampling2D)  (None, 256, 256, 3)  0           img[0][0]                        \n",
            "__________________________________________________________________________________________________\n",
            "repeat_vector_1 (RepeatVector)  (None, 64, 1)        0           feat[0][0]                       \n",
            "__________________________________________________________________________________________________\n",
            "model_1 (Model)                 [(None, 262, 262, 3) 23587712    up_sampling2d_1[0][0]            \n",
            "__________________________________________________________________________________________________\n",
            "reshape_1 (Reshape)             (None, 8, 8, 1)      0           repeat_vector_1[0][0]            \n",
            "__________________________________________________________________________________________________\n",
            "concatenate_1 (Concatenate)     (None, 8, 8, 2049)   0           model_1[1][5]                    \n",
            "                                                                 reshape_1[0][0]                  \n",
            "__________________________________________________________________________________________________\n",
            "conv2d_transpose_1 (Conv2DTrans (None, 16, 16, 1024) 8393728     concatenate_1[0][0]              \n",
            "__________________________________________________________________________________________________\n",
            "concatenate_2 (Concatenate)     (None, 16, 16, 2048) 0           conv2d_transpose_1[0][0]         \n",
            "                                                                 model_1[1][4]                    \n",
            "__________________________________________________________________________________________________\n",
            "conv2d_1 (Conv2D)               (None, 16, 16, 1024) 18875392    concatenate_2[0][0]              \n",
            "__________________________________________________________________________________________________\n",
            "batch_normalization_2 (BatchNor (None, 16, 16, 1024) 4096        conv2d_1[0][0]                   \n",
            "__________________________________________________________________________________________________\n",
            "conv2d_2 (Conv2D)               (None, 16, 16, 1024) 9438208     batch_normalization_2[0][0]      \n",
            "__________________________________________________________________________________________________\n",
            "conv2d_transpose_2 (Conv2DTrans (None, 32, 32, 512)  2097664     conv2d_2[0][0]                   \n",
            "__________________________________________________________________________________________________\n",
            "concatenate_3 (Concatenate)     (None, 32, 32, 1024) 0           conv2d_transpose_2[0][0]         \n",
            "                                                                 model_1[1][3]                    \n",
            "__________________________________________________________________________________________________\n",
            "conv2d_3 (Conv2D)               (None, 32, 32, 512)  4719104     concatenate_3[0][0]              \n",
            "__________________________________________________________________________________________________\n",
            "batch_normalization_5 (BatchNor (None, 32, 32, 512)  2048        conv2d_3[0][0]                   \n",
            "__________________________________________________________________________________________________\n",
            "conv2d_4 (Conv2D)               (None, 32, 32, 512)  2359808     batch_normalization_5[0][0]      \n",
            "__________________________________________________________________________________________________\n",
            "conv2d_transpose_3 (Conv2DTrans (None, 64, 64, 256)  524544      conv2d_4[0][0]                   \n",
            "__________________________________________________________________________________________________\n",
            "batch_normalization_7 (BatchNor (None, 64, 64, 256)  1024        conv2d_transpose_3[0][0]         \n",
            "__________________________________________________________________________________________________\n",
            "up_sampling2d_2 (UpSampling2D)  (None, 128, 128, 256 0           batch_normalization_7[0][0]      \n",
            "__________________________________________________________________________________________________\n",
            "cropping2d_1 (Cropping2D)       (None, 126, 126, 256 0           up_sampling2d_2[0][0]            \n",
            "__________________________________________________________________________________________________\n",
            "average_pooling2d_1 (AveragePoo (None, 63, 63, 256)  0           cropping2d_1[0][0]               \n",
            "__________________________________________________________________________________________________\n",
            "concatenate_4 (Concatenate)     (None, 63, 63, 512)  0           average_pooling2d_1[0][0]        \n",
            "                                                                 model_1[1][2]                    \n",
            "__________________________________________________________________________________________________\n",
            "up_sampling2d_3 (UpSampling2D)  (None, 126, 126, 512 0           concatenate_4[0][0]              \n",
            "__________________________________________________________________________________________________\n",
            "zero_padding2d_1 (ZeroPadding2D (None, 128, 128, 512 0           up_sampling2d_3[0][0]            \n",
            "__________________________________________________________________________________________________\n",
            "average_pooling2d_2 (AveragePoo (None, 64, 64, 512)  0           zero_padding2d_1[0][0]           \n",
            "__________________________________________________________________________________________________\n",
            "conv2d_5 (Conv2D)               (None, 64, 64, 256)  1179904     average_pooling2d_2[0][0]        \n",
            "__________________________________________________________________________________________________\n",
            "conv2d_6 (Conv2D)               (None, 64, 64, 256)  590080      conv2d_5[0][0]                   \n",
            "__________________________________________________________________________________________________\n",
            "conv2d_transpose_4 (Conv2DTrans (None, 128, 128, 128 131200      conv2d_6[0][0]                   \n",
            "__________________________________________________________________________________________________\n",
            "batch_normalization_10 (BatchNo (None, 128, 128, 128 512         conv2d_transpose_4[0][0]         \n",
            "__________________________________________________________________________________________________\n",
            "conv2d_7 (Conv2D)               (None, 128, 128, 128 147584      batch_normalization_10[0][0]     \n",
            "__________________________________________________________________________________________________\n",
            "batch_normalization_11 (BatchNo (None, 128, 128, 128 512         conv2d_7[0][0]                   \n",
            "__________________________________________________________________________________________________\n",
            "conv2d_8 (Conv2D)               (None, 128, 128, 128 147584      batch_normalization_11[0][0]     \n",
            "__________________________________________________________________________________________________\n",
            "batch_normalization_12 (BatchNo (None, 128, 128, 128 512         conv2d_8[0][0]                   \n",
            "__________________________________________________________________________________________________\n",
            "conv2d_9 (Conv2D)               (None, 128, 128, 1)  129         batch_normalization_12[0][0]     \n",
            "==================================================================================================\n",
            "Total params: 72,201,345\n",
            "Trainable params: 72,143,873\n",
            "Non-trainable params: 57,472\n",
            "__________________________________________________________________________________________________\n"
          ],
          "name": "stdout"
        }
      ]
    },
    {
      "metadata": {
        "id": "ARYcM1UH8F8v",
        "colab_type": "code",
        "colab": {}
      },
      "cell_type": "code",
      "source": [
        "# check the layers by name\n",
        "for i,layer in enumerate(model.layers):\n",
        "    print(i,layer.name)"
      ],
      "execution_count": 0,
      "outputs": []
    },
    {
      "metadata": {
        "id": "271VdC5Sst3q",
        "colab_type": "text"
      },
      "cell_type": "markdown",
      "source": [
        "# Transfer Learning"
      ]
    },
    {
      "metadata": {
        "id": "awsNwldgtUFW",
        "colab_type": "text"
      },
      "cell_type": "markdown",
      "source": [
        "## Fine Tuning"
      ]
    },
    {
      "metadata": {
        "id": "m760KCWfTf7A",
        "colab_type": "code",
        "colab": {}
      },
      "cell_type": "code",
      "source": [
        "for layer in model.layers:\n",
        "  layer.trainable = True"
      ],
      "execution_count": 0,
      "outputs": []
    },
    {
      "metadata": {
        "id": "10azs3Pxsagb",
        "colab_type": "code",
        "colab": {}
      },
      "cell_type": "code",
      "source": [
        "print_layer_trainable(model)"
      ],
      "execution_count": 0,
      "outputs": []
    },
    {
      "metadata": {
        "id": "gMyhuzmLq2E9",
        "colab_type": "text"
      },
      "cell_type": "markdown",
      "source": [
        "Once we have changed whether the model's layers are trainable, we need to compile the model for the changes to take effect."
      ]
    },
    {
      "metadata": {
        "id": "sj_r17Bddc5Q",
        "colab_type": "text"
      },
      "cell_type": "markdown",
      "source": [
        "**Lower learning rate**"
      ]
    },
    {
      "metadata": {
        "id": "kTYBH0ymTf7H",
        "colab_type": "code",
        "colab": {}
      },
      "cell_type": "code",
      "source": [
        "optimizer_fine = optimizers.Adam(lr=1e-4)\n",
        "loss = 'binary_crossentropy'"
      ],
      "execution_count": 0,
      "outputs": []
    },
    {
      "metadata": {
        "id": "rpVpikLHTf7I",
        "colab_type": "code",
        "colab": {}
      },
      "cell_type": "code",
      "source": [
        "model.compile(optimizer=optimizer_fine, loss=loss)"
      ],
      "execution_count": 0,
      "outputs": []
    },
    {
      "metadata": {
        "id": "ghYIOzAyYCXa",
        "colab_type": "text"
      },
      "cell_type": "markdown",
      "source": [
        "## Training"
      ]
    },
    {
      "metadata": {
        "id": "3_tomVkwNN6_",
        "colab_type": "code",
        "colab": {
          "base_uri": "https://localhost:8080/",
          "height": 1214
        },
        "outputId": "20ede74b-5b78-46bf-def6-5d9a003b5f2c"
      },
      "cell_type": "code",
      "source": [
        "callbacks = [\n",
        "    EarlyStopping(patience=5, verbose=1),\n",
        "    ReduceLROnPlateau(patience=3, verbose=1),\n",
        "    ModelCheckpoint('model-tgs-salt-1.h5', verbose=1, save_best_only=True, save_weights_only=True)\n",
        "]\n",
        "\n",
        "results = model.fit(generator{'img': x_train, 'feat': depth_train}, y_train, batch_size=16, epochs=25, callbacks=callbacks,\n",
        "                    validation_data=({'img': x_valid, 'feat': depth_valid}, y_valid))"
      ],
      "execution_count": 0,
      "outputs": [
        {
          "output_type": "stream",
          "text": [
            "Train on 3600 samples, validate on 400 samples\n",
            "Epoch 1/25\n",
            "3600/3600 [==============================] - 373s 104ms/step - loss: 0.3315 - val_loss: 0.7497\n",
            "\n",
            "Epoch 00001: val_loss improved from inf to 0.74975, saving model to model-tgs-salt-1.h5\n",
            "Epoch 2/25\n",
            "3600/3600 [==============================] - 344s 96ms/step - loss: 0.2411 - val_loss: 0.1676\n",
            "\n",
            "Epoch 00002: val_loss improved from 0.74975 to 0.16765, saving model to model-tgs-salt-1.h5\n",
            "Epoch 3/25\n",
            "3600/3600 [==============================] - 344s 96ms/step - loss: 0.2088 - val_loss: 0.1886\n",
            "\n",
            "Epoch 00003: val_loss did not improve from 0.16765\n",
            "Epoch 4/25\n",
            "3600/3600 [==============================] - 344s 96ms/step - loss: 0.1858 - val_loss: 0.2230\n",
            "\n",
            "Epoch 00004: val_loss did not improve from 0.16765\n",
            "Epoch 5/25\n",
            "3600/3600 [==============================] - 344s 96ms/step - loss: 0.1704 - val_loss: 0.1518\n",
            "\n",
            "Epoch 00005: val_loss improved from 0.16765 to 0.15184, saving model to model-tgs-salt-1.h5\n",
            "Epoch 6/25\n",
            "3600/3600 [==============================] - 344s 96ms/step - loss: 0.1557 - val_loss: 0.2011\n",
            "\n",
            "Epoch 00006: val_loss did not improve from 0.15184\n",
            "Epoch 7/25\n",
            "3600/3600 [==============================] - 344s 96ms/step - loss: 0.1553 - val_loss: 0.1885\n",
            "\n",
            "Epoch 00007: val_loss did not improve from 0.15184\n",
            "Epoch 8/25\n",
            "3600/3600 [==============================] - 344s 96ms/step - loss: 0.1188 - val_loss: 0.1640\n",
            "\n",
            "Epoch 00008: ReduceLROnPlateau reducing learning rate to 9.999999747378752e-06.\n",
            "\n",
            "Epoch 00008: val_loss did not improve from 0.15184\n",
            "Epoch 9/25\n",
            "3600/3600 [==============================] - 344s 96ms/step - loss: 0.0777 - val_loss: 0.1128\n",
            "\n",
            "Epoch 00009: val_loss improved from 0.15184 to 0.11283, saving model to model-tgs-salt-1.h5\n",
            "Epoch 10/25\n",
            "3600/3600 [==============================] - 344s 96ms/step - loss: 0.0688 - val_loss: 0.1148\n",
            "\n",
            "Epoch 00010: val_loss did not improve from 0.11283\n",
            "Epoch 11/25\n",
            "3600/3600 [==============================] - 345s 96ms/step - loss: 0.0614 - val_loss: 0.1125\n",
            "\n",
            "Epoch 00011: val_loss improved from 0.11283 to 0.11254, saving model to model-tgs-salt-1.h5\n",
            "Epoch 12/25\n",
            "3600/3600 [==============================] - 344s 96ms/step - loss: 0.0567 - val_loss: 0.1140\n",
            "\n",
            "Epoch 00012: val_loss did not improve from 0.11254\n",
            "Epoch 13/25\n",
            "3600/3600 [==============================] - 344s 96ms/step - loss: 0.0530 - val_loss: 0.1138\n",
            "\n",
            "Epoch 00013: val_loss did not improve from 0.11254\n",
            "Epoch 14/25\n",
            "3600/3600 [==============================] - 344s 96ms/step - loss: 0.0494 - val_loss: 0.1213\n",
            "\n",
            "Epoch 00014: ReduceLROnPlateau reducing learning rate to 9.999999747378752e-07.\n",
            "\n",
            "Epoch 00014: val_loss did not improve from 0.11254\n",
            "Epoch 15/25\n",
            "3600/3600 [==============================] - 346s 96ms/step - loss: 0.0461 - val_loss: 0.1166\n",
            "\n",
            "Epoch 00015: val_loss did not improve from 0.11254\n",
            "Epoch 16/25\n",
            "3600/3600 [==============================] - 346s 96ms/step - loss: 0.0457 - val_loss: 0.1156\n",
            "\n",
            "Epoch 00016: val_loss did not improve from 0.11254\n",
            "Epoch 00016: early stopping\n"
          ],
          "name": "stdout"
        }
      ]
    },
    {
      "metadata": {
        "id": "gXKRmnpRaMJx",
        "colab_type": "text"
      },
      "cell_type": "markdown",
      "source": [
        "# Load model from saved weights (if runtime dies)"
      ]
    },
    {
      "metadata": {
        "id": "AosZu0tNaJdf",
        "colab_type": "code",
        "colab": {}
      },
      "cell_type": "code",
      "source": [
        "# model.load_weights('model-tgs-salt-1.h5')"
      ],
      "execution_count": 0,
      "outputs": []
    },
    {
      "metadata": {
        "id": "rG7y_rqlXvra",
        "colab_type": "text"
      },
      "cell_type": "markdown",
      "source": [
        "# Preprocess testing data"
      ]
    },
    {
      "metadata": {
        "id": "Sopk8B1pXwA9",
        "colab_type": "code",
        "colab": {}
      },
      "cell_type": "code",
      "source": [
        "test_ids = next(os.walk(\"test/images\"))[2]"
      ],
      "execution_count": 0,
      "outputs": []
    },
    {
      "metadata": {
        "id": "WhKsFDs7cwpb",
        "colab_type": "code",
        "colab": {}
      },
      "cell_type": "code",
      "source": [
        "X_test = np.zeros((len(test_ids), im_height, im_width, im_chan), dtype=np.float32)\n",
        "X_test_feat = np.zeros((len(test_ids), n_features), dtype=np.float32)"
      ],
      "execution_count": 0,
      "outputs": []
    },
    {
      "metadata": {
        "id": "jCxzneuBf0JY",
        "colab_type": "code",
        "colab": {
          "base_uri": "https://localhost:8080/",
          "height": 34
        },
        "outputId": "48e5b92a-f7ae-47e5-bf5d-251f225cb2e6"
      },
      "cell_type": "code",
      "source": [
        "# Getting and resizing test images... \n",
        "for n, ID in tqdm(enumerate(test_ids), total=len(test_ids)):\n",
        "    # depth feature\n",
        "    X_test_feat[n] = depths_df.loc[ID.replace('.png', ''), 'z']\n",
        "    # Load X\n",
        "    img = [np.array(load_img(\"test/images/\" + ID, grayscale=True))/255]\n",
        "    x_img = upsample(img)[0]\n",
        "    X_test[n] = np.array(x_img).reshape(128, 128, 3)"
      ],
      "execution_count": 0,
      "outputs": [
        {
          "output_type": "stream",
          "text": [
            "100%|██████████| 18000/18000 [01:33<00:00, 191.70it/s]\n"
          ],
          "name": "stderr"
        }
      ]
    },
    {
      "metadata": {
        "id": "35W-7Z9YWBRB",
        "colab_type": "text"
      },
      "cell_type": "markdown",
      "source": [
        "# Prediction"
      ]
    },
    {
      "metadata": {
        "id": "QG-E7K_3V_kK",
        "colab_type": "code",
        "colab": {
          "base_uri": "https://localhost:8080/",
          "height": 34
        },
        "outputId": "267dd14b-d97f-48ac-bde9-ecd57a0e0fa3"
      },
      "cell_type": "code",
      "source": [
        "outputs = model.predict({'img': X_test, 'feat': X_test_feat}, verbose=1)"
      ],
      "execution_count": 0,
      "outputs": [
        {
          "output_type": "stream",
          "text": [
            "18000/18000 [==============================] - 559s 31ms/step\n"
          ],
          "name": "stdout"
        }
      ]
    },
    {
      "metadata": {
        "id": "3HPF2zFyYtCg",
        "colab_type": "text"
      },
      "cell_type": "markdown",
      "source": [
        "# Create csv and submit to kaggle"
      ]
    },
    {
      "metadata": {
        "id": "aIPuG-3kYw_D",
        "colab_type": "code",
        "colab": {}
      },
      "cell_type": "code",
      "source": [
        "for i in range(len(test_ids)):\n",
        "  test_ids[i] = test_ids[i][:-4]\n",
        "\n",
        "submission = create_submission(test_ids, outputs)\n",
        "submission.to_csv('submission.csv', index=False)"
      ],
      "execution_count": 0,
      "outputs": []
    },
    {
      "metadata": {
        "id": "xIpw-QtoY4nB",
        "colab_type": "code",
        "colab": {
          "base_uri": "https://localhost:8080/",
          "height": 34
        },
        "outputId": "4ff0b3f6-c64d-4a6a-fb85-37f5cd3b4f80"
      },
      "cell_type": "code",
      "source": [
        "!kaggle competitions submit -c tgs-salt-identification-challenge -f submission.csv -m \"Trial submission\""
      ],
      "execution_count": 0,
      "outputs": [
        {
          "output_type": "stream",
          "text": [
            "Successfully submitted to TGS Salt Identification Challenge"
          ],
          "name": "stdout"
        }
      ]
    }
  ]
}